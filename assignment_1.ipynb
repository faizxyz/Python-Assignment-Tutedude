{
 "cells": [
  {
   "cell_type": "code",
   "execution_count": null,
   "id": "initial_id",
   "metadata": {
    "collapsed": true
   },
   "outputs": [],
   "source": [
    ""
   ]
  },
  {
   "metadata": {
    "ExecuteTime": {
     "end_time": "2025-10-15T13:52:55.223486Z",
     "start_time": "2025-10-15T13:52:21.341049Z"
    }
   },
   "cell_type": "code",
   "source": [
    "#Task 1\n",
    "\n",
    "num1 = float(input('Enter the first number:'))\n",
    "num2 = float(input('Enter the second number:'))\n",
    "print('Addition =', num1 + num2)\n",
    "print('Subtraction =', num1 - num2)\n",
    "print('Multiplication: ',num1 * num2)\n",
    "print('Division =', num1 / num2)\n"
   ],
   "id": "680433f641a5d8b5",
   "outputs": [
    {
     "name": "stdout",
     "output_type": "stream",
     "text": [
      "Addition = 154.0\n",
      "Subtraction = -42.0\n",
      "Multiplication:  5488.0\n",
      "Division = 0.5714285714285714\n"
     ]
    }
   ],
   "execution_count": 1
  },
  {
   "metadata": {
    "ExecuteTime": {
     "end_time": "2025-10-16T10:54:20.613547Z",
     "start_time": "2025-10-16T10:54:15.153309Z"
    }
   },
   "cell_type": "code",
   "source": [
    "\n",
    "#Task 2\n",
    "first_name = input('Enter your first name:')\n",
    "last_name = input('Enter your last name:')\n",
    "print('Hello,', first_name, last_name,'! Welcome to the Python program')\n"
   ],
   "id": "ad3c396fd12e7f53",
   "outputs": [
    {
     "name": "stdout",
     "output_type": "stream",
     "text": [
      "Hello, m faiz ! Welcome to the Python program\n"
     ]
    }
   ],
   "execution_count": 3
  },
  {
   "metadata": {},
   "cell_type": "code",
   "outputs": [],
   "execution_count": null,
   "source": "git config --global user.name \"faizxyz\"",
   "id": "b4495ff76b6ed268"
  }
 ],
 "metadata": {
  "kernelspec": {
   "display_name": "Python 3",
   "language": "python",
   "name": "python3"
  },
  "language_info": {
   "codemirror_mode": {
    "name": "ipython",
    "version": 2
   },
   "file_extension": ".py",
   "mimetype": "text/x-python",
   "name": "python",
   "nbconvert_exporter": "python",
   "pygments_lexer": "ipython2",
   "version": "2.7.6"
  }
 },
 "nbformat": 4,
 "nbformat_minor": 5
}
