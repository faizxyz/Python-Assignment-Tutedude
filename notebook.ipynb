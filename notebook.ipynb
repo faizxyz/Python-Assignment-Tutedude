{
 "cells": [
  {
   "metadata": {
    "ExecuteTime": {
     "end_time": "2025-10-12T14:46:56.009879Z",
     "start_time": "2025-10-12T14:46:56.006781Z"
    }
   },
   "cell_type": "code",
   "source": "print('Hi\\nMy Name is Faiz \\nI will be hitting 26 in a few months')",
   "id": "ec73c1e2c7fb5185",
   "outputs": [
    {
     "name": "stdout",
     "output_type": "stream",
     "text": [
      "Hi\n",
      "My Name is Faiz \n",
      "I will be hitting 26 in a few months\n"
     ]
    }
   ],
   "execution_count": 13
  },
  {
   "metadata": {
    "ExecuteTime": {
     "end_time": "2025-10-12T14:50:45.852132Z",
     "start_time": "2025-10-12T14:50:45.848666Z"
    }
   },
   "cell_type": "code",
   "source": "print('Boolean Literals\\nboolean contains only two statements\\ntrue or false\\nThere is another value which is called \"None\" value')",
   "id": "482aa42be02c5de0",
   "outputs": [
    {
     "name": "stdout",
     "output_type": "stream",
     "text": [
      "Boolean Literals\n",
      "boolean contains only two statements\n",
      "true or false\n",
      "There is another value which is called \"None\" value\n"
     ]
    }
   ],
   "execution_count": 22
  },
  {
   "metadata": {
    "ExecuteTime": {
     "end_time": "2025-10-12T14:51:15.138073Z",
     "start_time": "2025-10-12T14:51:15.134976Z"
    }
   },
   "cell_type": "code",
   "source": "print('Python is case sensitive')",
   "id": "f7e3a14e5bd0b930",
   "outputs": [
    {
     "name": "stdout",
     "output_type": "stream",
     "text": [
      "Python is case sensitive\n"
     ]
    }
   ],
   "execution_count": 24
  },
  {
   "metadata": {
    "ExecuteTime": {
     "end_time": "2025-10-12T19:23:26.086057Z",
     "start_time": "2025-10-12T19:23:26.083192Z"
    }
   },
   "cell_type": "code",
   "source": [
    "a = 20\n",
    "b = 3\n",
    "c = b **a\n",
    "print(c)\n"
   ],
   "id": "df0590bb12d9de74",
   "outputs": [
    {
     "name": "stdout",
     "output_type": "stream",
     "text": [
      "3486784401\n"
     ]
    }
   ],
   "execution_count": 24
  },
  {
   "metadata": {
    "ExecuteTime": {
     "end_time": "2025-10-12T19:24:09.043210Z",
     "start_time": "2025-10-12T19:24:09.040753Z"
    }
   },
   "cell_type": "code",
   "source": [
    "d = c - (a **b)\n",
    "print(d)"
   ],
   "id": "67b61dd9c70e4cd9",
   "outputs": [
    {
     "name": "stdout",
     "output_type": "stream",
     "text": [
      "3486776401\n"
     ]
    }
   ],
   "execution_count": 25
  },
  {
   "metadata": {
    "ExecuteTime": {
     "end_time": "2025-10-12T19:27:22.940914Z",
     "start_time": "2025-10-12T19:27:22.938220Z"
    }
   },
   "cell_type": "code",
   "source": "import keyword",
   "id": "29ac6a526f1fb77b",
   "outputs": [],
   "execution_count": 26
  },
  {
   "metadata": {
    "ExecuteTime": {
     "end_time": "2025-10-12T19:27:40.720186Z",
     "start_time": "2025-10-12T19:27:40.716733Z"
    }
   },
   "cell_type": "code",
   "source": "keyword.kwlist",
   "id": "7b536b9e9e95db59",
   "outputs": [
    {
     "data": {
      "text/plain": [
       "['False',\n",
       " 'None',\n",
       " 'True',\n",
       " 'and',\n",
       " 'as',\n",
       " 'assert',\n",
       " 'async',\n",
       " 'await',\n",
       " 'break',\n",
       " 'class',\n",
       " 'continue',\n",
       " 'def',\n",
       " 'del',\n",
       " 'elif',\n",
       " 'else',\n",
       " 'except',\n",
       " 'finally',\n",
       " 'for',\n",
       " 'from',\n",
       " 'global',\n",
       " 'if',\n",
       " 'import',\n",
       " 'in',\n",
       " 'is',\n",
       " 'lambda',\n",
       " 'nonlocal',\n",
       " 'not',\n",
       " 'or',\n",
       " 'pass',\n",
       " 'raise',\n",
       " 'return',\n",
       " 'try',\n",
       " 'while',\n",
       " 'with',\n",
       " 'yield']"
      ]
     },
     "execution_count": 27,
     "metadata": {},
     "output_type": "execute_result"
    }
   ],
   "execution_count": 27
  },
  {
   "metadata": {
    "ExecuteTime": {
     "end_time": "2025-10-12T19:28:45.013615Z",
     "start_time": "2025-10-12T19:28:45.011302Z"
    }
   },
   "cell_type": "code",
   "source": "# this is a comment",
   "id": "21c43f7d324d8dfc",
   "outputs": [],
   "execution_count": 28
  },
  {
   "metadata": {
    "ExecuteTime": {
     "end_time": "2025-10-12T19:29:45.539390Z",
     "start_time": "2025-10-12T19:29:45.537185Z"
    }
   },
   "cell_type": "code",
   "source": "#// ho",
   "id": "c324301a5682d000",
   "outputs": [],
   "execution_count": 30
  },
  {
   "metadata": {
    "ExecuteTime": {
     "end_time": "2025-10-12T19:31:38.088104Z",
     "start_time": "2025-10-12T19:31:38.085090Z"
    }
   },
   "cell_type": "code",
   "source": "print('single line comment can be written by using #\\nexample: # this is a comment')",
   "id": "b6afc43b094e171f",
   "outputs": [
    {
     "name": "stdout",
     "output_type": "stream",
     "text": [
      "single line comment can be written by using #\n",
      "example: # this is a comment\n"
     ]
    }
   ],
   "execution_count": 33
  },
  {
   "metadata": {
    "ExecuteTime": {
     "end_time": "2025-10-12T19:33:58.153160Z",
     "start_time": "2025-10-12T19:33:58.150266Z"
    }
   },
   "cell_type": "code",
   "source": "print('if you want to write a multi-line comment\\n it can be done by using \"\"\"')",
   "id": "3d08f9a0c8288500",
   "outputs": [
    {
     "name": "stdout",
     "output_type": "stream",
     "text": [
      "if you want to write a multi-line comment\n",
      " it can be done by using \"\"\"\n"
     ]
    }
   ],
   "execution_count": 35
  },
  {
   "metadata": {
    "ExecuteTime": {
     "end_time": "2025-10-12T19:34:18.112633Z",
     "start_time": "2025-10-12T19:34:18.109301Z"
    }
   },
   "cell_type": "code",
   "source": [
    "\"\"\"This is a comment\n",
    "of course\"\"\""
   ],
   "id": "bae4272c7f310c91",
   "outputs": [
    {
     "data": {
      "text/plain": [
       "'This is a comment\\nof course'"
      ]
     },
     "execution_count": 37,
     "metadata": {},
     "output_type": "execute_result"
    }
   ],
   "execution_count": 37
  },
  {
   "metadata": {
    "ExecuteTime": {
     "end_time": "2025-10-13T08:46:52.119510Z",
     "start_time": "2025-10-13T08:46:52.112683Z"
    }
   },
   "cell_type": "code",
   "source": [
    "age = 25\n",
    "type(age)"
   ],
   "id": "d514f7fc920072d3",
   "outputs": [
    {
     "data": {
      "text/plain": [
       "int"
      ]
     },
     "execution_count": 1,
     "metadata": {},
     "output_type": "execute_result"
    }
   ],
   "execution_count": 1
  },
  {
   "metadata": {
    "ExecuteTime": {
     "end_time": "2025-10-13T08:52:14.126504Z",
     "start_time": "2025-10-13T08:52:14.123059Z"
    }
   },
   "cell_type": "code",
   "source": "print('2.0 is a float\\n2 is int (integer)\\nTwo is str (string\\nTrue and False is Bool (Boolean)\\nNone is also a data type')",
   "id": "c39b598a333f8b61",
   "outputs": [
    {
     "name": "stdout",
     "output_type": "stream",
     "text": [
      "2.0 is a float\n",
      "2 is int (integer)\n",
      "Two is str (string\n",
      "True and False is Bool (Boolean)\n",
      "None is also a data type\n"
     ]
    }
   ],
   "execution_count": 5
  },
  {
   "metadata": {
    "ExecuteTime": {
     "end_time": "2025-10-13T08:52:27.511417Z",
     "start_time": "2025-10-13T08:52:27.507574Z"
    }
   },
   "cell_type": "code",
   "source": [
    "val2 = None\n",
    "type(val2)"
   ],
   "id": "95d1f2f057db0a0a",
   "outputs": [
    {
     "data": {
      "text/plain": [
       "NoneType"
      ]
     },
     "execution_count": 6,
     "metadata": {},
     "output_type": "execute_result"
    }
   ],
   "execution_count": 6
  },
  {
   "metadata": {
    "ExecuteTime": {
     "end_time": "2025-10-13T08:55:06.790403Z",
     "start_time": "2025-10-13T08:55:06.787157Z"
    }
   },
   "cell_type": "code",
   "source": [
    "s3 = '''this is a string\n",
    "this is 2nd line\n",
    "this is 3rd line'''\n",
    "type(s3)"
   ],
   "id": "5f3f6b7ad85b1553",
   "outputs": [
    {
     "data": {
      "text/plain": [
       "str"
      ]
     },
     "execution_count": 9,
     "metadata": {},
     "output_type": "execute_result"
    }
   ],
   "execution_count": 9
  },
  {
   "metadata": {
    "ExecuteTime": {
     "end_time": "2025-10-13T08:55:23.469878Z",
     "start_time": "2025-10-13T08:55:23.466926Z"
    }
   },
   "cell_type": "code",
   "source": "print(s3)",
   "id": "49fd8286a2b0c946",
   "outputs": [
    {
     "name": "stdout",
     "output_type": "stream",
     "text": [
      "this is a string\n",
      "this is 2nd line\n",
      "this is 3rd line\n"
     ]
    }
   ],
   "execution_count": 10
  },
  {
   "metadata": {
    "ExecuteTime": {
     "end_time": "2025-10-13T09:42:42.928458Z",
     "start_time": "2025-10-13T09:42:42.925060Z"
    }
   },
   "cell_type": "code",
   "source": [
    "s4 = ('python is case sensitive. ')\n",
    "s5 = 'yesss'\n",
    "s4 + s5"
   ],
   "id": "f497e0aefbd9dcfb",
   "outputs": [
    {
     "data": {
      "text/plain": [
       "'python is case sensitive. yesss'"
      ]
     },
     "execution_count": 31,
     "metadata": {},
     "output_type": "execute_result"
    }
   ],
   "execution_count": 31
  },
  {
   "metadata": {
    "ExecuteTime": {
     "end_time": "2025-10-13T09:40:31.425794Z",
     "start_time": "2025-10-13T09:40:31.421990Z"
    }
   },
   "cell_type": "code",
   "source": "s4[0]",
   "id": "75d4f25b00881c9e",
   "outputs": [
    {
     "data": {
      "text/plain": [
       "'p'"
      ]
     },
     "execution_count": 27,
     "metadata": {},
     "output_type": "execute_result"
    }
   ],
   "execution_count": 27
  },
  {
   "metadata": {
    "ExecuteTime": {
     "end_time": "2025-10-13T10:01:05.425655Z",
     "start_time": "2025-10-13T10:01:05.422550Z"
    }
   },
   "cell_type": "code",
   "source": "print('type conversion and type casting')",
   "id": "e6159731cf568cce",
   "outputs": [
    {
     "name": "stdout",
     "output_type": "stream",
     "text": [
      "type conversion and type casting\n"
     ]
    }
   ],
   "execution_count": 36
  },
  {
   "metadata": {
    "ExecuteTime": {
     "end_time": "2025-10-13T09:59:50.642375Z",
     "start_time": "2025-10-13T09:59:50.639283Z"
    }
   },
   "cell_type": "code",
   "source": [
    "w = 100\n",
    "type(w)"
   ],
   "id": "37cf665254e5e33",
   "outputs": [
    {
     "data": {
      "text/plain": [
       "int"
      ]
     },
     "execution_count": 34,
     "metadata": {},
     "output_type": "execute_result"
    }
   ],
   "execution_count": 34
  },
  {
   "metadata": {
    "ExecuteTime": {
     "end_time": "2025-10-13T10:00:01.209496Z",
     "start_time": "2025-10-13T10:00:01.205840Z"
    }
   },
   "cell_type": "code",
   "source": "float(w)",
   "id": "5d1701b1b9be889e",
   "outputs": [
    {
     "data": {
      "text/plain": [
       "100.0"
      ]
     },
     "execution_count": 35,
     "metadata": {},
     "output_type": "execute_result"
    }
   ],
   "execution_count": 35
  },
  {
   "metadata": {
    "ExecuteTime": {
     "end_time": "2025-10-13T10:01:36.930238Z",
     "start_time": "2025-10-13T10:01:36.926820Z"
    }
   },
   "cell_type": "code",
   "source": [
    "wf = 10.82\n",
    "int(wf)"
   ],
   "id": "a4327a04c6ad98ba",
   "outputs": [
    {
     "data": {
      "text/plain": [
       "10"
      ]
     },
     "execution_count": 38,
     "metadata": {},
     "output_type": "execute_result"
    }
   ],
   "execution_count": 38
  },
  {
   "metadata": {
    "ExecuteTime": {
     "end_time": "2025-10-13T10:02:49.168063Z",
     "start_time": "2025-10-13T10:02:49.164309Z"
    }
   },
   "cell_type": "code",
   "source": "str(wf)",
   "id": "a7678dec7eb9411a",
   "outputs": [
    {
     "data": {
      "text/plain": [
       "'10.82'"
      ]
     },
     "execution_count": 39,
     "metadata": {},
     "output_type": "execute_result"
    }
   ],
   "execution_count": 39
  },
  {
   "metadata": {
    "ExecuteTime": {
     "end_time": "2025-10-13T10:05:44.359781Z",
     "start_time": "2025-10-13T10:05:44.356618Z"
    }
   },
   "cell_type": "code",
   "source": [
    "sd = 'record'\n",
    "sd[4]"
   ],
   "id": "905cecc8b2e416bc",
   "outputs": [
    {
     "data": {
      "text/plain": [
       "'r'"
      ]
     },
     "execution_count": 40,
     "metadata": {},
     "output_type": "execute_result"
    }
   ],
   "execution_count": 40
  },
  {
   "metadata": {
    "ExecuteTime": {
     "end_time": "2025-10-13T10:10:11.684965Z",
     "start_time": "2025-10-13T10:10:11.681791Z"
    }
   },
   "cell_type": "code",
   "source": [
    "language = 'python'\n",
    "version = 3.67\n",
    "language + str(version)"
   ],
   "id": "86e921a27b473a75",
   "outputs": [
    {
     "data": {
      "text/plain": [
       "'python3.67'"
      ]
     },
     "execution_count": 41,
     "metadata": {},
     "output_type": "execute_result"
    }
   ],
   "execution_count": 41
  },
  {
   "metadata": {
    "ExecuteTime": {
     "end_time": "2025-10-13T10:18:55.031269Z",
     "start_time": "2025-10-13T10:18:55.027465Z"
    }
   },
   "cell_type": "code",
   "source": [
    "v1 = True\n",
    "str(v1)"
   ],
   "id": "addf6376ee05ae64",
   "outputs": [
    {
     "data": {
      "text/plain": [
       "'True'"
      ]
     },
     "execution_count": 42,
     "metadata": {},
     "output_type": "execute_result"
    }
   ],
   "execution_count": 42
  },
  {
   "metadata": {
    "ExecuteTime": {
     "end_time": "2025-10-13T10:19:53.643778Z",
     "start_time": "2025-10-13T10:19:53.640128Z"
    }
   },
   "cell_type": "code",
   "source": "bool('python')",
   "id": "5fabe06f247f7aed",
   "outputs": [
    {
     "data": {
      "text/plain": [
       "True"
      ]
     },
     "execution_count": 43,
     "metadata": {},
     "output_type": "execute_result"
    }
   ],
   "execution_count": 43
  },
  {
   "metadata": {
    "ExecuteTime": {
     "end_time": "2025-10-13T10:23:50.852435Z",
     "start_time": "2025-10-13T10:23:50.848225Z"
    }
   },
   "cell_type": "code",
   "source": "bool(False)",
   "id": "f681972bd3a5ea4",
   "outputs": [
    {
     "data": {
      "text/plain": [
       "False"
      ]
     },
     "execution_count": 44,
     "metadata": {},
     "output_type": "execute_result"
    }
   ],
   "execution_count": 44
  },
  {
   "metadata": {
    "ExecuteTime": {
     "end_time": "2025-10-13T10:24:03.078794Z",
     "start_time": "2025-10-13T10:24:03.075497Z"
    }
   },
   "cell_type": "code",
   "source": "bool(True)",
   "id": "f3dbbc78f21c0fc7",
   "outputs": [
    {
     "data": {
      "text/plain": [
       "True"
      ]
     },
     "execution_count": 45,
     "metadata": {},
     "output_type": "execute_result"
    }
   ],
   "execution_count": 45
  },
  {
   "metadata": {
    "ExecuteTime": {
     "end_time": "2025-10-13T10:24:08.096158Z",
     "start_time": "2025-10-13T10:24:08.091861Z"
    }
   },
   "cell_type": "code",
   "source": "bool(None)",
   "id": "821ab4e41a67a84a",
   "outputs": [
    {
     "data": {
      "text/plain": [
       "False"
      ]
     },
     "execution_count": 46,
     "metadata": {},
     "output_type": "execute_result"
    }
   ],
   "execution_count": 46
  },
  {
   "metadata": {
    "ExecuteTime": {
     "end_time": "2025-10-13T10:24:32.322165Z",
     "start_time": "2025-10-13T10:24:32.318438Z"
    }
   },
   "cell_type": "code",
   "source": "int(False)",
   "id": "ae1430cccbe62d93",
   "outputs": [
    {
     "data": {
      "text/plain": [
       "0"
      ]
     },
     "execution_count": 47,
     "metadata": {},
     "output_type": "execute_result"
    }
   ],
   "execution_count": 47
  },
  {
   "metadata": {
    "ExecuteTime": {
     "end_time": "2025-10-13T10:24:37.432135Z",
     "start_time": "2025-10-13T10:24:37.428118Z"
    }
   },
   "cell_type": "code",
   "source": "int(True)",
   "id": "7bbe4393f4de8bd8",
   "outputs": [
    {
     "data": {
      "text/plain": [
       "1"
      ]
     },
     "execution_count": 48,
     "metadata": {},
     "output_type": "execute_result"
    }
   ],
   "execution_count": 48
  },
  {
   "metadata": {
    "ExecuteTime": {
     "end_time": "2025-10-13T10:24:49.853237Z",
     "start_time": "2025-10-13T10:24:49.850893Z"
    }
   },
   "cell_type": "code",
   "source": "",
   "id": "1eecbece421d5616",
   "outputs": [],
   "execution_count": null
  },
  {
   "metadata": {
    "ExecuteTime": {
     "end_time": "2025-10-13T10:33:03.187555Z",
     "start_time": "2025-10-13T10:33:03.183816Z"
    }
   },
   "cell_type": "code",
   "source": [
    "# // floor division  division result is in int\n",
    "num2 = 20\n",
    "num3 = 3\n",
    "num2 // num3"
   ],
   "id": "1838df8f9eb73e8d",
   "outputs": [
    {
     "data": {
      "text/plain": [
       "6"
      ]
     },
     "execution_count": 57,
     "metadata": {},
     "output_type": "execute_result"
    }
   ],
   "execution_count": 57
  },
  {
   "metadata": {
    "ExecuteTime": {
     "end_time": "2025-10-13T10:33:04.980600Z",
     "start_time": "2025-10-13T10:33:04.977004Z"
    }
   },
   "cell_type": "code",
   "source": [
    "# % is used to get the remainder\n",
    "num2 % num3"
   ],
   "id": "89fea98b3eb1a5ad",
   "outputs": [
    {
     "data": {
      "text/plain": [
       "2"
      ]
     },
     "execution_count": 58,
     "metadata": {},
     "output_type": "execute_result"
    }
   ],
   "execution_count": 58
  },
  {
   "metadata": {
    "ExecuteTime": {
     "end_time": "2025-10-13T10:33:24.631116Z",
     "start_time": "2025-10-13T10:33:24.629011Z"
    }
   },
   "cell_type": "code",
   "source": "## ** ---> exponential",
   "id": "26c9103844b5b1dc",
   "outputs": [],
   "execution_count": 59
  },
  {
   "metadata": {
    "ExecuteTime": {
     "end_time": "2025-10-13T10:35:46.324200Z",
     "start_time": "2025-10-13T10:35:46.321745Z"
    }
   },
   "cell_type": "code",
   "source": [
    "# += ---> compound assigned operators x = x+1\n",
    "x = 10\n",
    "x +=2\n"
   ],
   "id": "38509f261a4f1788",
   "outputs": [],
   "execution_count": 60
  },
  {
   "metadata": {
    "ExecuteTime": {
     "end_time": "2025-10-13T10:35:51.379908Z",
     "start_time": "2025-10-13T10:35:51.375796Z"
    }
   },
   "cell_type": "code",
   "source": "x",
   "id": "edf0909b60a0d8a",
   "outputs": [
    {
     "data": {
      "text/plain": [
       "12"
      ]
     },
     "execution_count": 61,
     "metadata": {},
     "output_type": "execute_result"
    }
   ],
   "execution_count": 61
  },
  {
   "metadata": {
    "ExecuteTime": {
     "end_time": "2025-10-13T10:35:57.031237Z",
     "start_time": "2025-10-13T10:35:57.027676Z"
    }
   },
   "cell_type": "code",
   "source": "x",
   "id": "d192332e63f6e47d",
   "outputs": [
    {
     "data": {
      "text/plain": [
       "12"
      ]
     },
     "execution_count": 62,
     "metadata": {},
     "output_type": "execute_result"
    }
   ],
   "execution_count": 62
  },
  {
   "metadata": {
    "ExecuteTime": {
     "end_time": "2025-10-13T10:36:15.758646Z",
     "start_time": "2025-10-13T10:36:15.755023Z"
    }
   },
   "cell_type": "code",
   "source": [
    "x -= 2\n",
    "x"
   ],
   "id": "c3bd7a5ed57e822e",
   "outputs": [
    {
     "data": {
      "text/plain": [
       "10"
      ]
     },
     "execution_count": 63,
     "metadata": {},
     "output_type": "execute_result"
    }
   ],
   "execution_count": 63
  },
  {
   "metadata": {
    "ExecuteTime": {
     "end_time": "2025-10-13T10:36:45.960877Z",
     "start_time": "2025-10-13T10:36:45.957205Z"
    }
   },
   "cell_type": "code",
   "source": [
    "x /=9\n",
    "x"
   ],
   "id": "384a0996cdfd3d6d",
   "outputs": [
    {
     "data": {
      "text/plain": [
       "1.1111111111111112"
      ]
     },
     "execution_count": 64,
     "metadata": {},
     "output_type": "execute_result"
    }
   ],
   "execution_count": 64
  },
  {
   "metadata": {
    "ExecuteTime": {
     "end_time": "2025-10-14T09:59:21.190491Z",
     "start_time": "2025-10-14T09:59:21.186582Z"
    }
   },
   "cell_type": "code",
   "source": [
    "y = 'lko'\n",
    "print(y)"
   ],
   "id": "ff73d8130276b87f",
   "outputs": [
    {
     "name": "stdout",
     "output_type": "stream",
     "text": [
      "lko\n"
     ]
    }
   ],
   "execution_count": 1
  },
  {
   "metadata": {
    "ExecuteTime": {
     "end_time": "2025-10-14T10:32:18.282677Z",
     "start_time": "2025-10-14T10:32:18.280078Z"
    }
   },
   "cell_type": "code",
   "source": "#comparision operator",
   "id": "aa1f24a6935327b2",
   "outputs": [],
   "execution_count": 2
  },
  {
   "metadata": {
    "ExecuteTime": {
     "end_time": "2025-10-14T10:32:54.477869Z",
     "start_time": "2025-10-14T10:32:54.471891Z"
    }
   },
   "cell_type": "code",
   "source": [
    "num1 = 100\n",
    "num2 = 90\n",
    "num3 = 90\n",
    "\n",
    "num1 == num2\n"
   ],
   "id": "efbe6a27967b14a1",
   "outputs": [
    {
     "data": {
      "text/plain": [
       "False"
      ]
     },
     "execution_count": 3,
     "metadata": {},
     "output_type": "execute_result"
    }
   ],
   "execution_count": 3
  },
  {
   "metadata": {
    "ExecuteTime": {
     "end_time": "2025-10-14T10:33:03.459352Z",
     "start_time": "2025-10-14T10:33:03.455424Z"
    }
   },
   "cell_type": "code",
   "source": "num2 == num2",
   "id": "b9ab2bb5f9915b02",
   "outputs": [
    {
     "data": {
      "text/plain": [
       "True"
      ]
     },
     "execution_count": 4,
     "metadata": {},
     "output_type": "execute_result"
    }
   ],
   "execution_count": 4
  },
  {
   "metadata": {
    "ExecuteTime": {
     "end_time": "2025-10-14T10:33:25.663506Z",
     "start_time": "2025-10-14T10:33:25.658487Z"
    }
   },
   "cell_type": "code",
   "source": "num1 != num2",
   "id": "6b83204b253aa518",
   "outputs": [
    {
     "data": {
      "text/plain": [
       "True"
      ]
     },
     "execution_count": 5,
     "metadata": {},
     "output_type": "execute_result"
    }
   ],
   "execution_count": 5
  },
  {
   "metadata": {
    "ExecuteTime": {
     "end_time": "2025-10-14T10:34:14.712Z",
     "start_time": "2025-10-14T10:34:14.708092Z"
    }
   },
   "cell_type": "code",
   "source": "num2  != num3",
   "id": "bf2b9afea19c145b",
   "outputs": [
    {
     "data": {
      "text/plain": [
       "False"
      ]
     },
     "execution_count": 6,
     "metadata": {},
     "output_type": "execute_result"
    }
   ],
   "execution_count": 6
  },
  {
   "metadata": {
    "ExecuteTime": {
     "end_time": "2025-10-14T10:35:15.367318Z",
     "start_time": "2025-10-14T10:35:15.364540Z"
    }
   },
   "cell_type": "code",
   "source": "print('== means if one value is equal to another value\\n!= means if one value is not equal to another value')",
   "id": "9a820bf9880ea08a",
   "outputs": [
    {
     "name": "stdout",
     "output_type": "stream",
     "text": [
      "== means if one value is equal to another value\n",
      "!= means if one value is not equal to another value\n"
     ]
    }
   ],
   "execution_count": 7
  },
  {
   "metadata": {
    "ExecuteTime": {
     "end_time": "2025-10-14T10:37:37.978223Z",
     "start_time": "2025-10-14T10:37:37.975279Z"
    }
   },
   "cell_type": "code",
   "source": "print('< one value is less than another value\\n> one value is greater than another value')",
   "id": "de60dcf5faedd94c",
   "outputs": [
    {
     "name": "stdout",
     "output_type": "stream",
     "text": [
      "< one value is less than another value\n",
      "> one value is greater than another value\n"
     ]
    }
   ],
   "execution_count": 8
  },
  {
   "metadata": {
    "ExecuteTime": {
     "end_time": "2025-10-14T10:38:01.201995Z",
     "start_time": "2025-10-14T10:38:01.199276Z"
    }
   },
   "cell_type": "code",
   "source": "print('<= one value is less than another value\\n>= one value is greater than another value')",
   "id": "a3c3437ecbe86acb",
   "outputs": [
    {
     "name": "stdout",
     "output_type": "stream",
     "text": [
      "<= one value is less than another value\n",
      ">= one value is greater than another value\n"
     ]
    }
   ],
   "execution_count": 9
  },
  {
   "metadata": {
    "ExecuteTime": {
     "end_time": "2025-10-14T10:38:10.256670Z",
     "start_time": "2025-10-14T10:38:10.253161Z"
    }
   },
   "cell_type": "code",
   "source": "num1 >= num2",
   "id": "f59f94b2361df17",
   "outputs": [
    {
     "data": {
      "text/plain": [
       "True"
      ]
     },
     "execution_count": 10,
     "metadata": {},
     "output_type": "execute_result"
    }
   ],
   "execution_count": 10
  },
  {
   "metadata": {
    "ExecuteTime": {
     "end_time": "2025-10-14T10:38:17.257771Z",
     "start_time": "2025-10-14T10:38:17.254151Z"
    }
   },
   "cell_type": "code",
   "source": "num1 <= num2",
   "id": "3bc4860067ddba21",
   "outputs": [
    {
     "data": {
      "text/plain": [
       "False"
      ]
     },
     "execution_count": 11,
     "metadata": {},
     "output_type": "execute_result"
    }
   ],
   "execution_count": 11
  },
  {
   "metadata": {
    "ExecuteTime": {
     "end_time": "2025-10-14T10:38:27.285557Z",
     "start_time": "2025-10-14T10:38:27.281855Z"
    }
   },
   "cell_type": "code",
   "source": "num2 <= num1",
   "id": "9a85b5cc4de88335",
   "outputs": [
    {
     "data": {
      "text/plain": [
       "True"
      ]
     },
     "execution_count": 12,
     "metadata": {},
     "output_type": "execute_result"
    }
   ],
   "execution_count": 12
  },
  {
   "metadata": {
    "ExecuteTime": {
     "end_time": "2025-10-14T10:38:33.351807Z",
     "start_time": "2025-10-14T10:38:33.348231Z"
    }
   },
   "cell_type": "code",
   "source": "num3 <= num3",
   "id": "bae61181125544cb",
   "outputs": [
    {
     "data": {
      "text/plain": [
       "True"
      ]
     },
     "execution_count": 13,
     "metadata": {},
     "output_type": "execute_result"
    }
   ],
   "execution_count": 13
  },
  {
   "metadata": {
    "ExecuteTime": {
     "end_time": "2025-10-14T10:38:40.541621Z",
     "start_time": "2025-10-14T10:38:40.538091Z"
    }
   },
   "cell_type": "code",
   "source": "num2 >=num3",
   "id": "86ccdb2e2c0e581c",
   "outputs": [
    {
     "data": {
      "text/plain": [
       "True"
      ]
     },
     "execution_count": 14,
     "metadata": {},
     "output_type": "execute_result"
    }
   ],
   "execution_count": 14
  },
  {
   "metadata": {
    "ExecuteTime": {
     "end_time": "2025-10-14T10:39:09.027782Z",
     "start_time": "2025-10-14T10:39:09.023573Z"
    }
   },
   "cell_type": "code",
   "source": "num1 <= num2",
   "id": "e82a3ffb1ea02c38",
   "outputs": [
    {
     "data": {
      "text/plain": [
       "False"
      ]
     },
     "execution_count": 15,
     "metadata": {},
     "output_type": "execute_result"
    }
   ],
   "execution_count": 15
  },
  {
   "metadata": {
    "ExecuteTime": {
     "end_time": "2025-10-14T10:39:24.124317Z",
     "start_time": "2025-10-14T10:39:24.120586Z"
    }
   },
   "cell_type": "code",
   "source": "num2 != num1",
   "id": "e9b9ed0f994520d0",
   "outputs": [
    {
     "data": {
      "text/plain": [
       "True"
      ]
     },
     "execution_count": 17,
     "metadata": {},
     "output_type": "execute_result"
    }
   ],
   "execution_count": 17
  },
  {
   "metadata": {
    "ExecuteTime": {
     "end_time": "2025-10-14T10:40:13.395574Z",
     "start_time": "2025-10-14T10:40:13.392488Z"
    }
   },
   "cell_type": "code",
   "source": "print('Logical Operators\\nand, or, not')",
   "id": "5f6d04605a303039",
   "outputs": [
    {
     "name": "stdout",
     "output_type": "stream",
     "text": [
      "Logical Operators\n",
      "and, or, not\n"
     ]
    }
   ],
   "execution_count": 20
  },
  {
   "metadata": {
    "ExecuteTime": {
     "end_time": "2025-10-14T10:42:10.561033Z",
     "start_time": "2025-10-14T10:42:10.557776Z"
    }
   },
   "cell_type": "code",
   "source": "print('and ==> if both statement is true')",
   "id": "b36158ca6c942526",
   "outputs": [
    {
     "name": "stdout",
     "output_type": "stream",
     "text": [
      "and ==> if both statement is true\n"
     ]
    }
   ],
   "execution_count": 22
  },
  {
   "metadata": {
    "ExecuteTime": {
     "end_time": "2025-10-14T10:42:45.860835Z",
     "start_time": "2025-10-14T10:42:45.857502Z"
    }
   },
   "cell_type": "code",
   "source": "num1 and num2",
   "id": "7b308cb5f83593fa",
   "outputs": [
    {
     "data": {
      "text/plain": [
       "90"
      ]
     },
     "execution_count": 24,
     "metadata": {},
     "output_type": "execute_result"
    }
   ],
   "execution_count": 24
  },
  {
   "metadata": {
    "ExecuteTime": {
     "end_time": "2025-10-14T10:43:05.388049Z",
     "start_time": "2025-10-14T10:43:05.383717Z"
    }
   },
   "cell_type": "code",
   "source": "False and False",
   "id": "4133b867f78943f3",
   "outputs": [
    {
     "data": {
      "text/plain": [
       "False"
      ]
     },
     "execution_count": 25,
     "metadata": {},
     "output_type": "execute_result"
    }
   ],
   "execution_count": 25
  },
  {
   "metadata": {
    "ExecuteTime": {
     "end_time": "2025-10-14T10:43:10.523250Z",
     "start_time": "2025-10-14T10:43:10.519439Z"
    }
   },
   "cell_type": "code",
   "source": "True and True",
   "id": "dad0ff4bafa2a272",
   "outputs": [
    {
     "data": {
      "text/plain": [
       "True"
      ]
     },
     "execution_count": 26,
     "metadata": {},
     "output_type": "execute_result"
    }
   ],
   "execution_count": 26
  },
  {
   "metadata": {
    "ExecuteTime": {
     "end_time": "2025-10-14T10:43:19.841434Z",
     "start_time": "2025-10-14T10:43:19.838218Z"
    }
   },
   "cell_type": "code",
   "source": "True or False",
   "id": "2e4322423d4a6b0b",
   "outputs": [
    {
     "data": {
      "text/plain": [
       "True"
      ]
     },
     "execution_count": 27,
     "metadata": {},
     "output_type": "execute_result"
    }
   ],
   "execution_count": 27
  },
  {
   "metadata": {
    "ExecuteTime": {
     "end_time": "2025-10-14T10:43:24.194650Z",
     "start_time": "2025-10-14T10:43:24.190863Z"
    }
   },
   "cell_type": "code",
   "source": "False or True",
   "id": "7fba05e944fe8f3c",
   "outputs": [
    {
     "data": {
      "text/plain": [
       "True"
      ]
     },
     "execution_count": 28,
     "metadata": {},
     "output_type": "execute_result"
    }
   ],
   "execution_count": 28
  },
  {
   "metadata": {
    "ExecuteTime": {
     "end_time": "2025-10-14T10:43:28.253019Z",
     "start_time": "2025-10-14T10:43:28.249259Z"
    }
   },
   "cell_type": "code",
   "source": "False or False",
   "id": "8d51e1c09ca502c3",
   "outputs": [
    {
     "data": {
      "text/plain": [
       "False"
      ]
     },
     "execution_count": 29,
     "metadata": {},
     "output_type": "execute_result"
    }
   ],
   "execution_count": 29
  },
  {
   "metadata": {
    "ExecuteTime": {
     "end_time": "2025-10-14T10:43:33.307608Z",
     "start_time": "2025-10-14T10:43:33.303304Z"
    }
   },
   "cell_type": "code",
   "source": "True or True",
   "id": "3c373de471cf4044",
   "outputs": [
    {
     "data": {
      "text/plain": [
       "True"
      ]
     },
     "execution_count": 30,
     "metadata": {},
     "output_type": "execute_result"
    }
   ],
   "execution_count": 30
  },
  {
   "metadata": {
    "ExecuteTime": {
     "end_time": "2025-10-14T10:43:38.998756Z",
     "start_time": "2025-10-14T10:43:38.995451Z"
    }
   },
   "cell_type": "code",
   "source": "not True",
   "id": "38214352690713c6",
   "outputs": [
    {
     "data": {
      "text/plain": [
       "False"
      ]
     },
     "execution_count": 31,
     "metadata": {},
     "output_type": "execute_result"
    }
   ],
   "execution_count": 31
  },
  {
   "metadata": {
    "ExecuteTime": {
     "end_time": "2025-10-14T10:43:43.818518Z",
     "start_time": "2025-10-14T10:43:43.814885Z"
    }
   },
   "cell_type": "code",
   "source": "not False",
   "id": "7a5abbc369d3c0ae",
   "outputs": [
    {
     "data": {
      "text/plain": [
       "True"
      ]
     },
     "execution_count": 32,
     "metadata": {},
     "output_type": "execute_result"
    }
   ],
   "execution_count": 32
  },
  {
   "metadata": {
    "ExecuteTime": {
     "end_time": "2025-10-14T10:44:34.992707Z",
     "start_time": "2025-10-14T10:44:34.989921Z"
    }
   },
   "cell_type": "code",
   "source": [
    "name ='Mark'\n",
    "age = 18"
   ],
   "id": "8ff1fa16fda4a551",
   "outputs": [],
   "execution_count": 35
  },
  {
   "metadata": {
    "ExecuteTime": {
     "end_time": "2025-10-14T10:45:13.421517Z",
     "start_time": "2025-10-14T10:45:13.418113Z"
    }
   },
   "cell_type": "code",
   "source": "name =='Mark' and age>=18",
   "id": "3e0e9b2b791891fe",
   "outputs": [
    {
     "data": {
      "text/plain": [
       "True"
      ]
     },
     "execution_count": 39,
     "metadata": {},
     "output_type": "execute_result"
    }
   ],
   "execution_count": 39
  },
  {
   "metadata": {
    "ExecuteTime": {
     "end_time": "2025-10-14T10:45:48.460616Z",
     "start_time": "2025-10-14T10:45:48.457147Z"
    }
   },
   "cell_type": "code",
   "source": "print('Precedence')",
   "id": "86e9b2de0cb93d04",
   "outputs": [
    {
     "name": "stdout",
     "output_type": "stream",
     "text": [
      "Precedence\n"
     ]
    }
   ],
   "execution_count": 40
  },
  {
   "metadata": {
    "ExecuteTime": {
     "end_time": "2025-10-14T10:45:59.518411Z",
     "start_time": "2025-10-14T10:45:59.515236Z"
    }
   },
   "cell_type": "code",
   "source": "5 + 10 *6",
   "id": "65b25a3069f52ed",
   "outputs": [
    {
     "data": {
      "text/plain": [
       "65"
      ]
     },
     "execution_count": 41,
     "metadata": {},
     "output_type": "execute_result"
    }
   ],
   "execution_count": 41
  },
  {
   "metadata": {
    "ExecuteTime": {
     "end_time": "2025-10-14T10:50:20.583390Z",
     "start_time": "2025-10-14T10:50:20.580781Z"
    }
   },
   "cell_type": "code",
   "source": "print('and>or>not\\nor will be evaluated first then and and then not\\nthis is called precedence')",
   "id": "b3373a471d4e4d54",
   "outputs": [
    {
     "name": "stdout",
     "output_type": "stream",
     "text": [
      "and>or>not\n",
      "or will be evaluated first then and and then not\n",
      "this is called precedence\n"
     ]
    }
   ],
   "execution_count": 46
  },
  {
   "metadata": {
    "ExecuteTime": {
     "end_time": "2025-10-14T10:53:20.415442Z",
     "start_time": "2025-10-14T10:53:20.412700Z"
    }
   },
   "cell_type": "code",
   "source": [
    "#associativity\n",
    "print('associativity')"
   ],
   "id": "3af02f70a3179327",
   "outputs": [
    {
     "name": "stdout",
     "output_type": "stream",
     "text": [
      "associativity\n"
     ]
    }
   ],
   "execution_count": 47
  },
  {
   "metadata": {
    "ExecuteTime": {
     "end_time": "2025-10-14T10:54:33.606559Z",
     "start_time": "2025-10-14T10:54:33.601996Z"
    }
   },
   "cell_type": "code",
   "source": "100 * 10 / 4",
   "id": "92a05bab9aa47fe",
   "outputs": [
    {
     "data": {
      "text/plain": [
       "250.0"
      ]
     },
     "execution_count": 51,
     "metadata": {},
     "output_type": "execute_result"
    }
   ],
   "execution_count": 51
  },
  {
   "metadata": {
    "ExecuteTime": {
     "end_time": "2025-10-14T10:54:13.703255Z",
     "start_time": "2025-10-14T10:54:13.700084Z"
    }
   },
   "cell_type": "code",
   "source": "100 / 10 * 10",
   "id": "66c82629959aadcf",
   "outputs": [
    {
     "data": {
      "text/plain": [
       "100.0"
      ]
     },
     "execution_count": 49,
     "metadata": {},
     "output_type": "execute_result"
    }
   ],
   "execution_count": 49
  },
  {
   "metadata": {
    "ExecuteTime": {
     "end_time": "2025-10-14T10:55:37.304408Z",
     "start_time": "2025-10-14T10:55:37.301245Z"
    }
   },
   "cell_type": "code",
   "source": "print('Classification of operators based on the number of operands')",
   "id": "53b3e726a21ca475",
   "outputs": [
    {
     "name": "stdout",
     "output_type": "stream",
     "text": [
      "Classification of operators based on the number of operands\n"
     ]
    }
   ],
   "execution_count": 52
  },
  {
   "metadata": {
    "ExecuteTime": {
     "end_time": "2025-10-14T10:56:13.732732Z",
     "start_time": "2025-10-14T10:56:13.729041Z"
    }
   },
   "cell_type": "code",
   "source": [
    "print('Unary operator')\n",
    "-10"
   ],
   "id": "4ef252518fa27203",
   "outputs": [
    {
     "name": "stdout",
     "output_type": "stream",
     "text": [
      "Unary operator\n"
     ]
    },
    {
     "data": {
      "text/plain": [
       "-10"
      ]
     },
     "execution_count": 56,
     "metadata": {},
     "output_type": "execute_result"
    }
   ],
   "execution_count": 56
  },
  {
   "metadata": {
    "ExecuteTime": {
     "end_time": "2025-10-14T10:56:32.725100Z",
     "start_time": "2025-10-14T10:56:32.721819Z"
    }
   },
   "cell_type": "code",
   "source": "#binary",
   "id": "6d447830f8e0f48f",
   "outputs": [],
   "execution_count": 57
  },
  {
   "metadata": {
    "ExecuteTime": {
     "end_time": "2025-10-14T10:56:56.899900Z",
     "start_time": "2025-10-14T10:56:56.897453Z"
    }
   },
   "cell_type": "code",
   "source": "#ternary",
   "id": "dbe3df9e5cfedc35",
   "outputs": [],
   "execution_count": 58
  },
  {
   "metadata": {
    "ExecuteTime": {
     "end_time": "2025-10-14T11:46:23.463079Z",
     "start_time": "2025-10-14T11:46:23.460760Z"
    }
   },
   "cell_type": "code",
   "source": "print('python', sep = ' ')",
   "id": "5793947598aff04",
   "outputs": [
    {
     "name": "stdout",
     "output_type": "stream",
     "text": [
      "python\n"
     ]
    }
   ],
   "execution_count": 65
  },
  {
   "metadata": {
    "ExecuteTime": {
     "end_time": "2025-10-14T12:26:43.341324Z",
     "start_time": "2025-10-14T12:26:30.486917Z"
    }
   },
   "cell_type": "code",
   "source": [
    "first_name = input('Enter your first name: ')\n",
    "middle_name = input('Enter your middle name:')\n",
    "last_name = input('Enter your last name:')"
   ],
   "id": "65c0059036c6c9fa",
   "outputs": [],
   "execution_count": 69
  },
  {
   "metadata": {
    "ExecuteTime": {
     "end_time": "2025-10-14T12:26:45.798295Z",
     "start_time": "2025-10-14T12:26:45.795109Z"
    }
   },
   "cell_type": "code",
   "source": "print(first_name, middle_name, last_name, sep='-')",
   "id": "5f39e1fcdcd39476",
   "outputs": [
    {
     "name": "stdout",
     "output_type": "stream",
     "text": [
      "Mohammed-Faiz-Sayed\n"
     ]
    }
   ],
   "execution_count": 70
  },
  {
   "metadata": {
    "ExecuteTime": {
     "end_time": "2025-10-14T12:29:13.990208Z",
     "start_time": "2025-10-14T12:29:13.986336Z"
    }
   },
   "cell_type": "code",
   "source": "type(first_name)",
   "id": "c2eca1da4d316c5f",
   "outputs": [
    {
     "data": {
      "text/plain": [
       "str"
      ]
     },
     "execution_count": 73,
     "metadata": {},
     "output_type": "execute_result"
    }
   ],
   "execution_count": 73
  },
  {
   "metadata": {
    "ExecuteTime": {
     "end_time": "2025-10-14T12:29:44.123095Z",
     "start_time": "2025-10-14T12:29:40.876355Z"
    }
   },
   "cell_type": "code",
   "source": "wer = input('enter your age:')",
   "id": "9662de43c652c954",
   "outputs": [],
   "execution_count": 76
  },
  {
   "metadata": {
    "ExecuteTime": {
     "end_time": "2025-10-14T12:29:58.664519Z",
     "start_time": "2025-10-14T12:29:58.662190Z"
    }
   },
   "cell_type": "code",
   "source": "werr = int(wer)",
   "id": "39374df97ec782ac",
   "outputs": [],
   "execution_count": 77
  },
  {
   "metadata": {
    "ExecuteTime": {
     "end_time": "2025-10-14T12:30:12.630719Z",
     "start_time": "2025-10-14T12:30:12.626778Z"
    }
   },
   "cell_type": "code",
   "source": "type(werr)",
   "id": "d7b4e25e07080e40",
   "outputs": [
    {
     "data": {
      "text/plain": [
       "int"
      ]
     },
     "execution_count": 80,
     "metadata": {},
     "output_type": "execute_result"
    }
   ],
   "execution_count": 80
  },
  {
   "metadata": {
    "ExecuteTime": {
     "end_time": "2025-10-14T12:48:11.958259Z",
     "start_time": "2025-10-14T12:48:07.964010Z"
    }
   },
   "cell_type": "code",
   "source": "a = int(input('enter your age:'))",
   "id": "8595c63af7aa9174",
   "outputs": [],
   "execution_count": 82
  },
  {
   "metadata": {
    "ExecuteTime": {
     "end_time": "2025-10-14T12:58:22.764993Z",
     "start_time": "2025-10-14T12:58:22.762671Z"
    }
   },
   "cell_type": "code",
   "source": "#--------------------------------------------------------------------",
   "id": "66f9a7c1c4b939f2",
   "outputs": [],
   "execution_count": 83
  },
  {
   "metadata": {
    "ExecuteTime": {
     "end_time": "2025-10-14T13:01:32.115216Z",
     "start_time": "2025-10-14T13:01:23.086365Z"
    }
   },
   "cell_type": "code",
   "source": [
    "#Task 1\n",
    "num1 = float(input('Enter the first number:'))\n",
    "num2 = float(input('Enter the second number:'))\n",
    "print('Addition =', num1 + num2)\n",
    "print('Subtraction =', num1 - num2)\n",
    "print('Multiplication: ',num1 * num2)\n",
    "print('Division =', num1 / num2)"
   ],
   "id": "a79c950d42db5da8",
   "outputs": [
    {
     "name": "stdout",
     "output_type": "stream",
     "text": [
      "Addition = 88.72\n",
      "Subtraction = -42.0\n",
      "Multiplication:  1526.8096\n",
      "Division = 0.3574051407588739\n"
     ]
    }
   ],
   "execution_count": 86
  },
  {
   "metadata": {
    "ExecuteTime": {
     "end_time": "2025-10-14T13:04:04.547105Z",
     "start_time": "2025-10-14T13:03:57.201776Z"
    }
   },
   "cell_type": "code",
   "source": [
    "#Task 2\n",
    "first_name = input('Enter your first name:')\n",
    "last_name = input('Enter your last name:')\n",
    "print('Hello,', first_name, last_name,'! Welcome to the Python program')"
   ],
   "id": "afe542da4ad939e2",
   "outputs": [
    {
     "name": "stdout",
     "output_type": "stream",
     "text": [
      "Hello, Mohammed Faiz ! Welcome to the Python program\n"
     ]
    }
   ],
   "execution_count": 88
  },
  {
   "metadata": {},
   "cell_type": "code",
   "outputs": [],
   "execution_count": null,
   "source": "",
   "id": "8cd90908a93cee39"
  }
 ],
 "metadata": {
  "kernelspec": {
   "display_name": "Python 3",
   "language": "python",
   "name": "python3"
  },
  "language_info": {
   "codemirror_mode": {
    "name": "ipython",
    "version": 2
   },
   "file_extension": ".py",
   "mimetype": "text/x-python",
   "name": "python",
   "nbconvert_exporter": "python",
   "pygments_lexer": "ipython2",
   "version": "2.7.6"
  }
 },
 "nbformat": 4,
 "nbformat_minor": 5
}
